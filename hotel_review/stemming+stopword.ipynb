{
 "cells": [
  {
   "cell_type": "code",
   "execution_count": 1,
   "metadata": {},
   "outputs": [],
   "source": [
    "from nltk import PorterStemmer, LancasterStemmer, word_tokenize\n",
    "import pandas as pd"
   ]
  },
  {
   "cell_type": "code",
   "execution_count": 2,
   "metadata": {},
   "outputs": [],
   "source": [
    "#수정된 데이터셋\n",
    "hotel = pd.read_csv('./hotel_0.csv')"
   ]
  },
  {
   "cell_type": "markdown",
   "metadata": {},
   "source": [
    "### negative reviews"
   ]
  },
  {
   "cell_type": "code",
   "execution_count": 4,
   "metadata": {},
   "outputs": [
    {
     "name": "stdout",
     "output_type": "stream",
     "text": [
      "10850629\n"
     ]
    },
    {
     "name": "stderr",
     "output_type": "stream",
     "text": [
      "IOPub data rate exceeded.\n",
      "The notebook server will temporarily stop sending output\n",
      "to the client in order to avoid crashing it.\n",
      "To change this limit, set the config variable\n",
      "`--NotebookApp.iopub_data_rate_limit`.\n",
      "\n",
      "Current values:\n",
      "NotebookApp.iopub_data_rate_limit=1000000.0 (bytes/sec)\n",
      "NotebookApp.rate_limit_window=3.0 (secs)\n",
      "\n"
     ]
    },
    {
     "name": "stdout",
     "output_type": "stream",
     "text": [
      "7282894\n",
      "['angry', 'that', 'made', 'this', 'post', 'available', 'via', 'all', 'possible', 'sites', 'use', 'when', 'planing', 'trips', 'one', 'will', 'make', 'the', 'mistake', 'booking']\n",
      "['[', \"'\", 'I', 'am', 'so', 'i', 'i', 'my', 'so', 'no', 'of', 'I', 'my', 'We', '6', 'in', '11', 'to', '17', 'we']\n",
      "179\n",
      "['i', 'me', 'my', 'myself', 'we', 'our', 'ours', 'ourselves', 'you', \"you're\", \"you've\", \"you'll\", \"you'd\", 'your', 'yours', 'yourself', 'yourselves', 'he', 'him', 'his']\n",
      "4683695\n",
      "['angry', 'made', 'post', 'available', 'via', 'possible', 'sites', 'use', 'planing', 'trips', 'one', 'make', 'mistake', 'booking', 'place', 'made', 'booking', 'via', 'booking', 'com']\n"
     ]
    }
   ],
   "source": [
    "# 0번째 칼럼 제거\n",
    "edithotel = hotel.drop(hotel.columns[[0]],axis = 'columns')\n",
    "\n",
    "# 부정적인리뷰만 가지고 오기\n",
    "neg = edithotel[['Negative_Review']] #(10311477,1)\n",
    "\n",
    "# txt 파일로 변환 => 전처리 용이를 위함\n",
    "negtxt = neg.to_csv('neg.txt', index = False, header = None, sep = \",\" )\n",
    "\n",
    "\n",
    "#부정적인 리뷰 txt 데이터를 문장단위로 읽어온다.\n",
    "f = open(\"./neg.txt\")\n",
    "lines = f.readlines()\n",
    "lines = str(lines)\n",
    "\n",
    "# tokenization\n",
    "tokens = word_tokenize(lines)\n",
    "print(len(tokens))\n",
    "\n",
    "#porter stemmer\n",
    "porter = PorterStemmer()\n",
    "porter_stems = [porter.stem(t) for t in tokens]\n",
    "print(porter_stems)\n",
    "\n",
    "#negative stopword\n",
    "import nltk\n",
    "\n",
    "#단어길이가 3 이하 생략\n",
    "word_filter = [e for e in tokens if len(e)>=3]\n",
    "print(len(word_filter))\n",
    "print(word_filter[:20])\n",
    "\n",
    "#생략된 단어들 출력\n",
    "word_skipped = [e for e in tokens if len(e)<3]\n",
    "print(word_skipped[:20])\n",
    "\n",
    "#nltk 에서 제공하는 stopword 목록\n",
    "stopwords = nltk.corpus.stopwords.words('english')\n",
    "print(len(stopwords))\n",
    "print(stopwords[:20])\n",
    "\n",
    "\n",
    "# stopword가 아닌 단어들의 길이와 \n",
    "words = [w for w in word_filter if w.lower() not in stopwords]\n",
    "print(len(words))\n",
    "print(words[:20])\n"
   ]
  },
  {
   "cell_type": "markdown",
   "metadata": {},
   "source": [
    "### positive reviews"
   ]
  },
  {
   "cell_type": "code",
   "execution_count": 5,
   "metadata": {},
   "outputs": [
    {
     "name": "stderr",
     "output_type": "stream",
     "text": [
      "IOPub data rate exceeded.\n",
      "The notebook server will temporarily stop sending output\n",
      "to the client in order to avoid crashing it.\n",
      "To change this limit, set the config variable\n",
      "`--NotebookApp.iopub_data_rate_limit`.\n",
      "\n",
      "Current values:\n",
      "NotebookApp.iopub_data_rate_limit=1000000.0 (bytes/sec)\n",
      "NotebookApp.rate_limit_window=3.0 (secs)\n",
      "\n"
     ]
    },
    {
     "name": "stdout",
     "output_type": "stream",
     "text": [
      "7235173\n",
      "['Only', 'the', 'park', 'outside', 'the', 'hotel', 'was', 'beautiful', 'real', 'complaints', 'the', 'hotel', 'was', 'great', 'great', 'location', 'surroundings', 'rooms', 'amenities', 'and']\n",
      "['[', \"'\", 'of', '\\\\n', \"'\", ',', \"'\", 'No', 'in', 'to', 'a', 'on', 'is', 'a', 'of', 'a', 'or', 'a', 'or', 'be']\n",
      "179\n",
      "['i', 'me', 'my', 'myself', 'we', 'our', 'ours', 'ourselves', 'you', \"you're\", \"you've\", \"you'll\", \"you'd\", 'your', 'yours', 'yourself', 'yourselves', 'he', 'him', 'his']\n",
      "4947284\n",
      "['park', 'outside', 'hotel', 'beautiful', 'real', 'complaints', 'hotel', 'great', 'great', 'location', 'surroundings', 'rooms', 'amenities', 'service', 'Two', 'recommendations', 'however', 'firstly', 'staff', 'upon']\n"
     ]
    }
   ],
   "source": [
    "# 긍정적인 리뷰만 가지고 오기\n",
    "pos = hotel[['Positive_Review']]\n",
    "postxt = pos.to_csv('pos.txt',index=False,header=None, sep = \",\")\n",
    "\n",
    "#긍정적인 리뷰 txt 데이터를 문장단위로 읽어온다.\n",
    "f = open(\"./pos.txt\")\n",
    "lines = f.readlines()\n",
    "lines = str(lines)\n",
    "\n",
    "from nltk import PorterStemmer, LancasterStemmer , word_tokenize\n",
    "\n",
    "lines = str(lines)\n",
    "\n",
    "# tokenization\n",
    "tokens = word_tokenize(lines)\n",
    "\n",
    "#porter stemmer\n",
    "porter = PorterStemmer()\n",
    "porter_stems = [porter.stem(t) for t in tokens]\n",
    "print(porter_stems)\n",
    "\n",
    "#lancaster stemmer\n",
    "lancaster = LancasterStemmer()\n",
    "lancaster_stems = [lancaster.stem(t) for t in tokens ]\n",
    "print(lancaster_stems)\n",
    "\n",
    "\n",
    "#positive stopword\n",
    "import nltk\n",
    "\n",
    "# 단어길이가 3 이하 생략\n",
    "word_filter = [e for e in tokens if len(e)>=3]\n",
    "print(len(word_filter))\n",
    "print(word_filter[:20])\n",
    "\n",
    "#생략된 단어들 출력\n",
    "word_skipped = [e for e in tokens if len(e)<3]\n",
    "print(word_skipped[:20])\n",
    "\n",
    "#nltk 에서 제공하는 stopword 목록\n",
    "stopwords = nltk.corpus.stopwords.words('english')\n",
    "print(len(stopwords))\n",
    "print(stopwords[:20])\n",
    "\n",
    "# stopword 안에 없는 단어들만 출력 \n",
    "words = [w for w in word_filter if w.lower() not in stopwords]\n",
    "print(len(words))\n",
    "print(words[:20])"
   ]
  },
  {
   "cell_type": "code",
   "execution_count": null,
   "metadata": {},
   "outputs": [],
   "source": []
  }
 ],
 "metadata": {
  "kernelspec": {
   "display_name": "Python 3",
   "language": "python",
   "name": "python3"
  },
  "language_info": {
   "codemirror_mode": {
    "name": "ipython",
    "version": 3
   },
   "file_extension": ".py",
   "mimetype": "text/x-python",
   "name": "python",
   "nbconvert_exporter": "python",
   "pygments_lexer": "ipython3",
   "version": "3.7.2"
  }
 },
 "nbformat": 4,
 "nbformat_minor": 4
}
