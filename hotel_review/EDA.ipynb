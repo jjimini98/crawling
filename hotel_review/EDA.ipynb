{
 "cells": [
  {
   "cell_type": "code",
   "execution_count": 12,
   "metadata": {},
   "outputs": [],
   "source": [
    "import pandas as pd\n",
    "import csv\n",
    "import matplotlib.pyplot as plt"
   ]
  },
  {
   "cell_type": "code",
   "execution_count": 13,
   "metadata": {},
   "outputs": [],
   "source": [
    "# 데이터 가져오기\n",
    "\n",
    "origin_hotel = pd.read_csv('./Hotel_Reviews.csv',error_bad_lines=False) #<class 'pandas.core.frame.DataFrame'>\n",
    "hotel= origin_hotel.copy()"
   ]
  },
  {
   "cell_type": "code",
   "execution_count": 14,
   "metadata": {},
   "outputs": [
    {
     "name": "stdout",
     "output_type": "stream",
     "text": [
      "<class 'pandas.core.frame.DataFrame'>\n",
      "RangeIndex: 515738 entries, 0 to 515737\n",
      "Data columns (total 17 columns):\n",
      " #   Column                                      Non-Null Count   Dtype  \n",
      "---  ------                                      --------------   -----  \n",
      " 0   Hotel_Address                               515738 non-null  object \n",
      " 1   Additional_Number_of_Scoring                515738 non-null  int64  \n",
      " 2   Review_Date                                 515738 non-null  object \n",
      " 3   Average_Score                               515738 non-null  float64\n",
      " 4   Hotel_Name                                  515738 non-null  object \n",
      " 5   Reviewer_Nationality                        515738 non-null  object \n",
      " 6   Negative_Review                             515738 non-null  object \n",
      " 7   Review_Total_Negative_Word_Counts           515738 non-null  int64  \n",
      " 8   Total_Number_of_Reviews                     515738 non-null  int64  \n",
      " 9   Positive_Review                             515738 non-null  object \n",
      " 10  Review_Total_Positive_Word_Counts           515738 non-null  int64  \n",
      " 11  Total_Number_of_Reviews_Reviewer_Has_Given  515738 non-null  int64  \n",
      " 12  Reviewer_Score                              515738 non-null  float64\n",
      " 13  Tags                                        515738 non-null  object \n",
      " 14  days_since_review                           515738 non-null  object \n",
      " 15  lat                                         512470 non-null  float64\n",
      " 16  lng                                         512470 non-null  float64\n",
      "dtypes: float64(4), int64(5), object(8)\n",
      "memory usage: 66.9+ MB\n",
      "None\n",
      "Hotel_Address                                    0\n",
      "Additional_Number_of_Scoring                     0\n",
      "Review_Date                                      0\n",
      "Average_Score                                    0\n",
      "Hotel_Name                                       0\n",
      "Reviewer_Nationality                             0\n",
      "Negative_Review                                  0\n",
      "Review_Total_Negative_Word_Counts                0\n",
      "Total_Number_of_Reviews                          0\n",
      "Positive_Review                                  0\n",
      "Review_Total_Positive_Word_Counts                0\n",
      "Total_Number_of_Reviews_Reviewer_Has_Given       0\n",
      "Reviewer_Score                                   0\n",
      "Tags                                             0\n",
      "days_since_review                                0\n",
      "lat                                           3268\n",
      "lng                                           3268\n",
      "dtype: int64\n",
      "Hotel_Address                                 0\n",
      "Additional_Number_of_Scoring                  0\n",
      "Review_Date                                   0\n",
      "Average_Score                                 0\n",
      "Hotel_Name                                    0\n",
      "Reviewer_Nationality                          0\n",
      "Negative_Review                               0\n",
      "Review_Total_Negative_Word_Counts             0\n",
      "Total_Number_of_Reviews                       0\n",
      "Positive_Review                               0\n",
      "Review_Total_Positive_Word_Counts             0\n",
      "Total_Number_of_Reviews_Reviewer_Has_Given    0\n",
      "Reviewer_Score                                0\n",
      "Tags                                          0\n",
      "days_since_review                             0\n",
      "lat                                           0\n",
      "lng                                           0\n",
      "dtype: int64\n"
     ]
    }
   ],
   "source": [
    "# hotel 데이터의 전체적인 정보 출력\n",
    "print(hotel.info())\n",
    "\n",
    "# 데이터의 결측치 확인\n",
    "print(hotel.isna().sum()) # lat/lng에서 각각 3268개의 NA값이 확인됨\n",
    "\n",
    "\n",
    "# 데이터의 결측치 처리 결측치는 각 열의 평균으로 하려고 했지만, 결과가 오지게 안나와서 그냥 0 으로 처리 아무래도 5000개의 데이터의 평균을 구하기 쉽지 않았을거다.\n",
    "hotel_fillna = hotel.fillna(0)\n",
    "print(hotel_fillna.isna().sum()) #결측치를 -으로 처리 !\n",
    "\n",
    "# 결측치를 없앤 값을 다시 hotel dataframe에 대입\n",
    "hotel = hotel_fillna\n",
    "\n"
   ]
  },
  {
   "cell_type": "code",
   "execution_count": 15,
   "metadata": {},
   "outputs": [
    {
     "name": "stdout",
     "output_type": "stream",
     "text": [
      " United Kingdom               245246\n",
      " United States of America      35437\n",
      " Australia                     21686\n",
      " Ireland                       14827\n",
      " United Arab Emirates          10235\n",
      " Saudi Arabia                   8951\n",
      " Netherlands                    8772\n",
      " Switzerland                    8678\n",
      " Germany                        7941\n",
      " Canada                         7894\n",
      " France                         7296\n",
      " Israel                         6610\n",
      " Italy                          6114\n",
      " Belgium                        6031\n",
      " Turkey                         5444\n",
      " Kuwait                         4920\n",
      " Spain                          4737\n",
      " Romania                        4552\n",
      " Russia                         3900\n",
      " South Africa                   3821\n",
      "Name: Reviewer_Nationality, dtype: int64\n"
     ]
    },
    {
     "data": {
      "image/png": "[encoded data removed]",
      "text/plain": [
       "<Figure size 432x288 with 1 Axes>"
      ]
     },
     "metadata": {
      "needs_background": "light"
     },
     "output_type": "display_data"
    },
    {
     "data": {
      "image/png": "[encoded data removed]",
      "text/plain": [
       "<Figure size 432x288 with 1 Axes>"
      ]
     },
     "metadata": {
      "needs_background": "light"
     },
     "output_type": "display_data"
    }
   ],
   "source": [
    "# 리뷰어가 어디가 제일 많은지 봐보자\n",
    "reviewer = hotel['Reviewer_Nationality'].value_counts().sort_values(ascending=False).head(20)\n",
    "print(reviewer)\n",
    "\n",
    "\n",
    "# 평이 안좋은 호텔 시각화\n",
    "worst_hotels =hotel.groupby('Hotel_Name')['Reviewer_Score'].mean().sort_values(ascending=True).head(5)\n",
    "worst_hotels.plot(kind=\"bar\",color=\"Red\")\n",
    "_=plt.xlabel('Worst Hotels according to Reviews')\n",
    "_=plt.ylabel('Average Review Score')\n",
    "plt.show()\n",
    "\n",
    "# 평이 좋은 호텔 시각화\n",
    "good_hotels =hotel.groupby('Hotel_Name')['Reviewer_Score'].mean().sort_values(ascending=False).head(5)\n",
    "good_hotels.plot(kind=\"bar\",color=\"blue\")\n",
    "_=plt.xlabel('good Hotels according to Reviews')\n",
    "_=plt.ylabel('Average Review Score')\n",
    "plt.show()"
   ]
  },
  {
   "cell_type": "code",
   "execution_count": null,
   "metadata": {},
   "outputs": [],
   "source": []
  }
 ],
 "metadata": {
  "kernelspec": {
   "display_name": "Python 3",
   "language": "python",
   "name": "python3"
  },
  "language_info": {
   "codemirror_mode": {
    "name": "ipython",
    "version": 3
   },
   "file_extension": ".py",
   "mimetype": "text/x-python",
   "name": "python",
   "nbconvert_exporter": "python",
   "pygments_lexer": "ipython3",
   "version": "3.7.2"
  }
 },
 "nbformat": 4,
 "nbformat_minor": 4
}
